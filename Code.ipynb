{
  "nbformat": 4,
  "nbformat_minor": 0,
  "metadata": {
    "colab": {
      "name": "UTS ML - 2301872980.ipynb",
      "provenance": [],
      "collapsed_sections": []
    },
    "kernelspec": {
      "name": "python3",
      "display_name": "Python 3"
    },
    "language_info": {
      "name": "python"
    }
  },
  "cells": [
    {
      "cell_type": "markdown",
      "metadata": {
        "id": "Q5ubfe74d_eR"
      },
      "source": [
        "Reyhan Suisanto - 2301872980 - LD01"
      ]
    },
    {
      "cell_type": "code",
      "metadata": {
        "id": "t5v6vd3IfbAA"
      },
      "source": [
        "import pandas as pd\n",
        "import numpy as np\n",
        "import seaborn as sns\n",
        "import matplotlib.pyplot as plt\n",
        "import math\n",
        "from sklearn.model_selection import train_test_split\n",
        "from sklearn.linear_model import LinearRegression\n",
        "from sklearn.metrics import mean_squared_error, r2_score"
      ],
      "execution_count": 1,
      "outputs": []
    },
    {
      "cell_type": "markdown",
      "metadata": {
        "id": "Hf4adYi3eDZw"
      },
      "source": [
        "Di atas merupakan library-library yang saya gunakan"
      ]
    },
    {
      "cell_type": "code",
      "metadata": {
        "id": "rYhnishAf44G"
      },
      "source": [
        "data = pd.read_csv('titanic.csv')"
      ],
      "execution_count": 2,
      "outputs": []
    },
    {
      "cell_type": "markdown",
      "metadata": {
        "id": "WzhOoXA3eI6g"
      },
      "source": [
        "Pertama, saya import dataset 'titanic.csv' dan menaruh kedalam variabel data"
      ]
    },
    {
      "cell_type": "code",
      "metadata": {
        "id": "oku_gffftDxu"
      },
      "source": [
        "to_drop=[\n",
        "         'Name',\n",
        "         'Sex',\n",
        "         'Ticket',\n",
        "         'Fare',\n",
        "         'Cabin',\n",
        "         'Embarked'\n",
        "]\n",
        "data.drop(to_drop, inplace = True, axis = 1)"
      ],
      "execution_count": 3,
      "outputs": []
    },
    {
      "cell_type": "markdown",
      "metadata": {
        "id": "bibE4Dw3eOWy"
      },
      "source": [
        "Lalu saya membuang kolom yang tidak dibutuhkan menggunakan to_drop."
      ]
    },
    {
      "cell_type": "code",
      "metadata": {
        "colab": {
          "base_uri": "https://localhost:8080/",
          "height": 204
        },
        "id": "bZmwcO5n38Qg",
        "outputId": "11354e75-03cb-44c0-f974-6634b51b97be"
      },
      "source": [
        "data.head()"
      ],
      "execution_count": 4,
      "outputs": [
        {
          "output_type": "execute_result",
          "data": {
            "text/html": [
              "<div>\n",
              "<style scoped>\n",
              "    .dataframe tbody tr th:only-of-type {\n",
              "        vertical-align: middle;\n",
              "    }\n",
              "\n",
              "    .dataframe tbody tr th {\n",
              "        vertical-align: top;\n",
              "    }\n",
              "\n",
              "    .dataframe thead th {\n",
              "        text-align: right;\n",
              "    }\n",
              "</style>\n",
              "<table border=\"1\" class=\"dataframe\">\n",
              "  <thead>\n",
              "    <tr style=\"text-align: right;\">\n",
              "      <th></th>\n",
              "      <th>PassengerId</th>\n",
              "      <th>Survived</th>\n",
              "      <th>Pclass</th>\n",
              "      <th>Age</th>\n",
              "      <th>SibSp</th>\n",
              "      <th>Parch</th>\n",
              "    </tr>\n",
              "  </thead>\n",
              "  <tbody>\n",
              "    <tr>\n",
              "      <th>0</th>\n",
              "      <td>1</td>\n",
              "      <td>0</td>\n",
              "      <td>3</td>\n",
              "      <td>22.0</td>\n",
              "      <td>1</td>\n",
              "      <td>0</td>\n",
              "    </tr>\n",
              "    <tr>\n",
              "      <th>1</th>\n",
              "      <td>2</td>\n",
              "      <td>1</td>\n",
              "      <td>1</td>\n",
              "      <td>38.0</td>\n",
              "      <td>1</td>\n",
              "      <td>0</td>\n",
              "    </tr>\n",
              "    <tr>\n",
              "      <th>2</th>\n",
              "      <td>3</td>\n",
              "      <td>1</td>\n",
              "      <td>3</td>\n",
              "      <td>26.0</td>\n",
              "      <td>0</td>\n",
              "      <td>0</td>\n",
              "    </tr>\n",
              "    <tr>\n",
              "      <th>3</th>\n",
              "      <td>4</td>\n",
              "      <td>1</td>\n",
              "      <td>1</td>\n",
              "      <td>35.0</td>\n",
              "      <td>1</td>\n",
              "      <td>0</td>\n",
              "    </tr>\n",
              "    <tr>\n",
              "      <th>4</th>\n",
              "      <td>5</td>\n",
              "      <td>0</td>\n",
              "      <td>3</td>\n",
              "      <td>35.0</td>\n",
              "      <td>0</td>\n",
              "      <td>0</td>\n",
              "    </tr>\n",
              "  </tbody>\n",
              "</table>\n",
              "</div>"
            ],
            "text/plain": [
              "   PassengerId  Survived  Pclass   Age  SibSp  Parch\n",
              "0            1         0       3  22.0      1      0\n",
              "1            2         1       1  38.0      1      0\n",
              "2            3         1       3  26.0      0      0\n",
              "3            4         1       1  35.0      1      0\n",
              "4            5         0       3  35.0      0      0"
            ]
          },
          "metadata": {
            "tags": []
          },
          "execution_count": 4
        }
      ]
    },
    {
      "cell_type": "markdown",
      "metadata": {
        "id": "0A4vvuPCeWxo"
      },
      "source": [
        "Diatas adalah hasil dari dataset yang sudah saya buang beberapa kolomnya"
      ]
    },
    {
      "cell_type": "code",
      "metadata": {
        "colab": {
          "base_uri": "https://localhost:8080/"
        },
        "id": "xpPaUTsCvimT",
        "outputId": "7101a022-960c-4951-beb8-30b81d7ccb39"
      },
      "source": [
        "checkNaN = data['Age'].isnull().sum()\n",
        "print('Total NaN = '+ str(checkNaN))"
      ],
      "execution_count": 5,
      "outputs": [
        {
          "output_type": "stream",
          "text": [
            "Total NaN = 177\n"
          ],
          "name": "stdout"
        }
      ]
    },
    {
      "cell_type": "markdown",
      "metadata": {
        "id": "NvScom8sejHm"
      },
      "source": [
        "Lalu saya hitung berapa jumlah NaN yang ada di dalam kolom Age. Sebelumnya saya sudah memeriksa bahwa value NaN hanya ada pada kolom Age"
      ]
    },
    {
      "cell_type": "code",
      "metadata": {
        "colab": {
          "base_uri": "https://localhost:8080/"
        },
        "id": "NsbBOZ-_3BBy",
        "outputId": "f59f6cac-24e8-4b32-c54a-147a27e02c2f"
      },
      "source": [
        "data['Age'].fillna(value = data['Age'].mean(), inplace = True)\n",
        "print(data.loc[[888]])"
      ],
      "execution_count": 6,
      "outputs": [
        {
          "output_type": "stream",
          "text": [
            "     PassengerId  Survived  Pclass        Age  SibSp  Parch\n",
            "888          889         0       3  29.699118      1      2\n"
          ],
          "name": "stdout"
        }
      ]
    },
    {
      "cell_type": "markdown",
      "metadata": {
        "id": "rVwyUnFUes9o"
      },
      "source": [
        "Lalu value yang NaN tersebut saya isi dengan nilai mean Age"
      ]
    },
    {
      "cell_type": "code",
      "metadata": {
        "colab": {
          "base_uri": "https://localhost:8080/",
          "height": 337
        },
        "id": "5SHzpiONrvg6",
        "outputId": "eeb46652-43c4-4953-d370-5a9c0531aef0"
      },
      "source": [
        "visual = data[['Age', 'Survived']]\n",
        "correlation = visual.corr()\n",
        "print(correlation)\n",
        "sns.heatmap(correlation,\n",
        "            xticklabels = correlation.columns,\n",
        "            yticklabels = correlation.columns\n",
        "            )"
      ],
      "execution_count": 7,
      "outputs": [
        {
          "output_type": "stream",
          "text": [
            "               Age  Survived\n",
            "Age       1.000000 -0.069809\n",
            "Survived -0.069809  1.000000\n"
          ],
          "name": "stdout"
        },
        {
          "output_type": "execute_result",
          "data": {
            "text/plain": [
              "<matplotlib.axes._subplots.AxesSubplot at 0x7fd3c8093d90>"
            ]
          },
          "metadata": {
            "tags": []
          },
          "execution_count": 7
        },
        {
          "output_type": "display_data",
          "data": {
            "image/png": "[encoded data removed]",
            "text/plain": [
              "<Figure size 432x288 with 2 Axes>"
            ]
          },
          "metadata": {
            "tags": [],
            "needs_background": "light"
          }
        }
      ]
    },
    {
      "cell_type": "markdown",
      "metadata": {
        "id": "fGuexSKaey4y"
      },
      "source": [
        "Diatas merupakan hubungan antara 2 variabel yaitu age dan survied"
      ]
    },
    {
      "cell_type": "code",
      "metadata": {
        "colab": {
          "base_uri": "https://localhost:8080/",
          "height": 456
        },
        "id": "K2B1UAm4qPx9",
        "outputId": "08252206-a7c0-4958-9084-0e9784f636de"
      },
      "source": [
        "correlation = data.corr()\n",
        "print(correlation)\n",
        "sns.heatmap(correlation,\n",
        "            xticklabels = correlation.columns,\n",
        "            yticklabels = correlation.columns\n",
        "            )"
      ],
      "execution_count": 8,
      "outputs": [
        {
          "output_type": "stream",
          "text": [
            "             PassengerId  Survived    Pclass       Age     SibSp     Parch\n",
            "PassengerId     1.000000 -0.005007 -0.035144  0.033207 -0.057527 -0.001652\n",
            "Survived       -0.005007  1.000000 -0.338481 -0.069809 -0.035322  0.081629\n",
            "Pclass         -0.035144 -0.338481  1.000000 -0.331339  0.083081  0.018443\n",
            "Age             0.033207 -0.069809 -0.331339  1.000000 -0.232625 -0.179191\n",
            "SibSp          -0.057527 -0.035322  0.083081 -0.232625  1.000000  0.414838\n",
            "Parch          -0.001652  0.081629  0.018443 -0.179191  0.414838  1.000000\n"
          ],
          "name": "stdout"
        },
        {
          "output_type": "execute_result",
          "data": {
            "text/plain": [
              "<matplotlib.axes._subplots.AxesSubplot at 0x7fd3c783f710>"
            ]
          },
          "metadata": {
            "tags": []
          },
          "execution_count": 8
        },
        {
          "output_type": "display_data",
          "data": {
            "image/png": "[encoded data removed]",
            "text/plain": [
              "<Figure size 432x288 with 2 Axes>"
            ]
          },
          "metadata": {
            "tags": [],
            "needs_background": "light"
          }
        }
      ]
    },
    {
      "cell_type": "markdown",
      "metadata": {
        "id": "Zr_s1OQye5PR"
      },
      "source": [
        "Diatas adalah hasil korelasi"
      ]
    },
    {
      "cell_type": "code",
      "metadata": {
        "colab": {
          "base_uri": "https://localhost:8080/",
          "height": 204
        },
        "id": "l4ZRtT-14Ett",
        "outputId": "c5f0b56d-f886-4cd6-85d5-34e7f7770a69"
      },
      "source": [
        "x = data[['PassengerId', 'Pclass', 'Age', 'SibSp', 'Parch']]\n",
        "y = data[['Survived']]\n",
        "\n",
        "x_train, x_test, y_train, y_test = train_test_split(x, y, test_size = 0.2, random_state = 0)\n",
        "\n",
        "trainingset = pd.concat([x_train, y_train], axis = 1)\n",
        "trainingset.head()"
      ],
      "execution_count": 9,
      "outputs": [
        {
          "output_type": "execute_result",
          "data": {
            "text/html": [
              "<div>\n",
              "<style scoped>\n",
              "    .dataframe tbody tr th:only-of-type {\n",
              "        vertical-align: middle;\n",
              "    }\n",
              "\n",
              "    .dataframe tbody tr th {\n",
              "        vertical-align: top;\n",
              "    }\n",
              "\n",
              "    .dataframe thead th {\n",
              "        text-align: right;\n",
              "    }\n",
              "</style>\n",
              "<table border=\"1\" class=\"dataframe\">\n",
              "  <thead>\n",
              "    <tr style=\"text-align: right;\">\n",
              "      <th></th>\n",
              "      <th>PassengerId</th>\n",
              "      <th>Pclass</th>\n",
              "      <th>Age</th>\n",
              "      <th>SibSp</th>\n",
              "      <th>Parch</th>\n",
              "      <th>Survived</th>\n",
              "    </tr>\n",
              "  </thead>\n",
              "  <tbody>\n",
              "    <tr>\n",
              "      <th>140</th>\n",
              "      <td>141</td>\n",
              "      <td>3</td>\n",
              "      <td>29.699118</td>\n",
              "      <td>0</td>\n",
              "      <td>2</td>\n",
              "      <td>0</td>\n",
              "    </tr>\n",
              "    <tr>\n",
              "      <th>439</th>\n",
              "      <td>440</td>\n",
              "      <td>2</td>\n",
              "      <td>31.000000</td>\n",
              "      <td>0</td>\n",
              "      <td>0</td>\n",
              "      <td>0</td>\n",
              "    </tr>\n",
              "    <tr>\n",
              "      <th>817</th>\n",
              "      <td>818</td>\n",
              "      <td>2</td>\n",
              "      <td>31.000000</td>\n",
              "      <td>1</td>\n",
              "      <td>1</td>\n",
              "      <td>0</td>\n",
              "    </tr>\n",
              "    <tr>\n",
              "      <th>378</th>\n",
              "      <td>379</td>\n",
              "      <td>3</td>\n",
              "      <td>20.000000</td>\n",
              "      <td>0</td>\n",
              "      <td>0</td>\n",
              "      <td>0</td>\n",
              "    </tr>\n",
              "    <tr>\n",
              "      <th>491</th>\n",
              "      <td>492</td>\n",
              "      <td>3</td>\n",
              "      <td>21.000000</td>\n",
              "      <td>0</td>\n",
              "      <td>0</td>\n",
              "      <td>0</td>\n",
              "    </tr>\n",
              "  </tbody>\n",
              "</table>\n",
              "</div>"
            ],
            "text/plain": [
              "     PassengerId  Pclass        Age  SibSp  Parch  Survived\n",
              "140          141       3  29.699118      0      2         0\n",
              "439          440       2  31.000000      0      0         0\n",
              "817          818       2  31.000000      1      1         0\n",
              "378          379       3  20.000000      0      0         0\n",
              "491          492       3  21.000000      0      0         0"
            ]
          },
          "metadata": {
            "tags": []
          },
          "execution_count": 9
        }
      ]
    },
    {
      "cell_type": "markdown",
      "metadata": {
        "id": "0jphEy9Ue7pw"
      },
      "source": [
        "Setelah itu saya melakukan train test split menggunakan library. Sebelumnya saya juga sudah membagi data menjadi feature dan target. Kemudian saya print hasil trainingnya."
      ]
    },
    {
      "cell_type": "code",
      "metadata": {
        "colab": {
          "base_uri": "https://localhost:8080/"
        },
        "id": "FJQHz0347LYd",
        "outputId": "a080637c-eed9-4060-a8c1-692b45377bfa"
      },
      "source": [
        "linreg = LinearRegression()\n",
        "linreg.fit(x_train, y_train)"
      ],
      "execution_count": 10,
      "outputs": [
        {
          "output_type": "execute_result",
          "data": {
            "text/plain": [
              "LinearRegression(copy_X=True, fit_intercept=True, n_jobs=None, normalize=False)"
            ]
          },
          "metadata": {
            "tags": []
          },
          "execution_count": 10
        }
      ]
    },
    {
      "cell_type": "markdown",
      "metadata": {
        "id": "xZ1CCIrJfQ9c"
      },
      "source": [
        "Code di atas merupakan fungsi untuk menjalankan linearregression"
      ]
    },
    {
      "cell_type": "code",
      "metadata": {
        "colab": {
          "base_uri": "https://localhost:8080/"
        },
        "id": "fBLXM8ia7W2f",
        "outputId": "dd1bc180-975b-4996-9b13-c400d8e6cbe6"
      },
      "source": [
        "predict = linreg.predict(x_test)\n",
        "predict = np.round(predict)\n",
        "predict"
      ],
      "execution_count": 11,
      "outputs": [
        {
          "output_type": "execute_result",
          "data": {
            "text/plain": [
              "array([[ 0.],\n",
              "       [ 0.],\n",
              "       [ 0.],\n",
              "       [ 1.],\n",
              "       [ 0.],\n",
              "       [ 1.],\n",
              "       [ 1.],\n",
              "       [ 1.],\n",
              "       [ 1.],\n",
              "       [ 0.],\n",
              "       [ 0.],\n",
              "       [ 0.],\n",
              "       [ 0.],\n",
              "       [ 1.],\n",
              "       [ 1.],\n",
              "       [ 0.],\n",
              "       [ 0.],\n",
              "       [ 1.],\n",
              "       [ 0.],\n",
              "       [ 1.],\n",
              "       [ 1.],\n",
              "       [ 1.],\n",
              "       [ 0.],\n",
              "       [ 1.],\n",
              "       [ 0.],\n",
              "       [ 1.],\n",
              "       [ 0.],\n",
              "       [ 0.],\n",
              "       [ 1.],\n",
              "       [ 0.],\n",
              "       [ 0.],\n",
              "       [ 0.],\n",
              "       [ 0.],\n",
              "       [ 1.],\n",
              "       [ 0.],\n",
              "       [ 1.],\n",
              "       [ 0.],\n",
              "       [ 0.],\n",
              "       [ 0.],\n",
              "       [ 0.],\n",
              "       [ 0.],\n",
              "       [ 0.],\n",
              "       [ 0.],\n",
              "       [ 0.],\n",
              "       [ 1.],\n",
              "       [ 0.],\n",
              "       [ 0.],\n",
              "       [ 1.],\n",
              "       [ 0.],\n",
              "       [ 1.],\n",
              "       [ 1.],\n",
              "       [ 1.],\n",
              "       [ 1.],\n",
              "       [ 0.],\n",
              "       [ 1.],\n",
              "       [ 0.],\n",
              "       [ 0.],\n",
              "       [ 0.],\n",
              "       [ 0.],\n",
              "       [ 0.],\n",
              "       [ 0.],\n",
              "       [ 0.],\n",
              "       [ 0.],\n",
              "       [ 1.],\n",
              "       [ 0.],\n",
              "       [ 0.],\n",
              "       [ 1.],\n",
              "       [ 1.],\n",
              "       [ 1.],\n",
              "       [ 1.],\n",
              "       [ 0.],\n",
              "       [ 0.],\n",
              "       [ 1.],\n",
              "       [ 0.],\n",
              "       [ 0.],\n",
              "       [ 0.],\n",
              "       [ 1.],\n",
              "       [ 1.],\n",
              "       [ 0.],\n",
              "       [ 0.],\n",
              "       [ 0.],\n",
              "       [ 0.],\n",
              "       [ 1.],\n",
              "       [ 0.],\n",
              "       [ 0.],\n",
              "       [ 1.],\n",
              "       [ 1.],\n",
              "       [-0.],\n",
              "       [ 0.],\n",
              "       [ 1.],\n",
              "       [ 1.],\n",
              "       [ 0.],\n",
              "       [ 1.],\n",
              "       [ 1.],\n",
              "       [ 0.],\n",
              "       [ 0.],\n",
              "       [ 1.],\n",
              "       [ 0.],\n",
              "       [ 0.],\n",
              "       [ 1.],\n",
              "       [ 0.],\n",
              "       [ 0.],\n",
              "       [ 0.],\n",
              "       [ 0.],\n",
              "       [ 0.],\n",
              "       [ 0.],\n",
              "       [ 0.],\n",
              "       [ 0.],\n",
              "       [ 0.],\n",
              "       [ 0.],\n",
              "       [ 0.],\n",
              "       [ 1.],\n",
              "       [ 0.],\n",
              "       [ 0.],\n",
              "       [ 1.],\n",
              "       [ 0.],\n",
              "       [ 0.],\n",
              "       [ 1.],\n",
              "       [ 0.],\n",
              "       [ 0.],\n",
              "       [ 0.],\n",
              "       [ 0.],\n",
              "       [ 0.],\n",
              "       [ 1.],\n",
              "       [ 0.],\n",
              "       [ 0.],\n",
              "       [ 0.],\n",
              "       [ 0.],\n",
              "       [ 0.],\n",
              "       [ 0.],\n",
              "       [ 0.],\n",
              "       [ 0.],\n",
              "       [ 0.],\n",
              "       [ 0.],\n",
              "       [ 0.],\n",
              "       [ 0.],\n",
              "       [ 0.],\n",
              "       [ 0.],\n",
              "       [ 0.],\n",
              "       [ 1.],\n",
              "       [ 0.],\n",
              "       [ 1.],\n",
              "       [ 0.],\n",
              "       [ 0.],\n",
              "       [ 0.],\n",
              "       [ 0.],\n",
              "       [ 0.],\n",
              "       [ 0.],\n",
              "       [ 1.],\n",
              "       [ 0.],\n",
              "       [ 1.],\n",
              "       [ 0.],\n",
              "       [ 0.],\n",
              "       [ 0.],\n",
              "       [ 1.],\n",
              "       [ 0.],\n",
              "       [ 0.],\n",
              "       [ 0.],\n",
              "       [ 0.],\n",
              "       [ 0.],\n",
              "       [ 0.],\n",
              "       [ 0.],\n",
              "       [ 0.],\n",
              "       [ 0.],\n",
              "       [ 0.],\n",
              "       [ 0.],\n",
              "       [ 0.],\n",
              "       [ 0.],\n",
              "       [ 0.],\n",
              "       [ 0.],\n",
              "       [ 0.],\n",
              "       [ 1.],\n",
              "       [ 0.],\n",
              "       [ 0.],\n",
              "       [ 0.],\n",
              "       [ 0.],\n",
              "       [ 1.],\n",
              "       [ 0.],\n",
              "       [ 0.]])"
            ]
          },
          "metadata": {
            "tags": []
          },
          "execution_count": 11
        }
      ]
    },
    {
      "cell_type": "code",
      "metadata": {
        "colab": {
          "base_uri": "https://localhost:8080/"
        },
        "id": "WRz7Atr58BX2",
        "outputId": "3d28abfd-1c3d-4329-9f4f-24be0ba4b041"
      },
      "source": [
        "actual = y_test\n",
        "actual = np.array(y_test)\n",
        "actual"
      ],
      "execution_count": 12,
      "outputs": [
        {
          "output_type": "execute_result",
          "data": {
            "text/plain": [
              "array([[0],\n",
              "       [0],\n",
              "       [0],\n",
              "       [1],\n",
              "       [1],\n",
              "       [1],\n",
              "       [1],\n",
              "       [1],\n",
              "       [1],\n",
              "       [1],\n",
              "       [0],\n",
              "       [1],\n",
              "       [0],\n",
              "       [1],\n",
              "       [1],\n",
              "       [0],\n",
              "       [0],\n",
              "       [0],\n",
              "       [0],\n",
              "       [1],\n",
              "       [0],\n",
              "       [1],\n",
              "       [0],\n",
              "       [0],\n",
              "       [0],\n",
              "       [1],\n",
              "       [0],\n",
              "       [1],\n",
              "       [1],\n",
              "       [0],\n",
              "       [0],\n",
              "       [1],\n",
              "       [0],\n",
              "       [1],\n",
              "       [0],\n",
              "       [1],\n",
              "       [0],\n",
              "       [0],\n",
              "       [0],\n",
              "       [0],\n",
              "       [1],\n",
              "       [0],\n",
              "       [0],\n",
              "       [0],\n",
              "       [1],\n",
              "       [0],\n",
              "       [0],\n",
              "       [1],\n",
              "       [0],\n",
              "       [0],\n",
              "       [1],\n",
              "       [1],\n",
              "       [1],\n",
              "       [0],\n",
              "       [1],\n",
              "       [0],\n",
              "       [0],\n",
              "       [0],\n",
              "       [0],\n",
              "       [1],\n",
              "       [0],\n",
              "       [0],\n",
              "       [1],\n",
              "       [0],\n",
              "       [1],\n",
              "       [0],\n",
              "       [1],\n",
              "       [0],\n",
              "       [1],\n",
              "       [1],\n",
              "       [1],\n",
              "       [1],\n",
              "       [0],\n",
              "       [0],\n",
              "       [0],\n",
              "       [1],\n",
              "       [0],\n",
              "       [0],\n",
              "       [0],\n",
              "       [0],\n",
              "       [0],\n",
              "       [1],\n",
              "       [0],\n",
              "       [0],\n",
              "       [0],\n",
              "       [1],\n",
              "       [1],\n",
              "       [1],\n",
              "       [1],\n",
              "       [0],\n",
              "       [0],\n",
              "       [0],\n",
              "       [1],\n",
              "       [1],\n",
              "       [0],\n",
              "       [0],\n",
              "       [1],\n",
              "       [0],\n",
              "       [0],\n",
              "       [1],\n",
              "       [0],\n",
              "       [0],\n",
              "       [0],\n",
              "       [0],\n",
              "       [0],\n",
              "       [1],\n",
              "       [1],\n",
              "       [0],\n",
              "       [0],\n",
              "       [1],\n",
              "       [0],\n",
              "       [1],\n",
              "       [1],\n",
              "       [0],\n",
              "       [1],\n",
              "       [1],\n",
              "       [1],\n",
              "       [1],\n",
              "       [0],\n",
              "       [1],\n",
              "       [1],\n",
              "       [0],\n",
              "       [0],\n",
              "       [0],\n",
              "       [0],\n",
              "       [0],\n",
              "       [0],\n",
              "       [1],\n",
              "       [0],\n",
              "       [0],\n",
              "       [0],\n",
              "       [0],\n",
              "       [0],\n",
              "       [0],\n",
              "       [0],\n",
              "       [0],\n",
              "       [0],\n",
              "       [0],\n",
              "       [0],\n",
              "       [0],\n",
              "       [0],\n",
              "       [1],\n",
              "       [0],\n",
              "       [0],\n",
              "       [1],\n",
              "       [0],\n",
              "       [0],\n",
              "       [1],\n",
              "       [1],\n",
              "       [0],\n",
              "       [0],\n",
              "       [1],\n",
              "       [0],\n",
              "       [0],\n",
              "       [1],\n",
              "       [0],\n",
              "       [0],\n",
              "       [1],\n",
              "       [0],\n",
              "       [1],\n",
              "       [0],\n",
              "       [1],\n",
              "       [1],\n",
              "       [1],\n",
              "       [0],\n",
              "       [0],\n",
              "       [0],\n",
              "       [0],\n",
              "       [0],\n",
              "       [0],\n",
              "       [0],\n",
              "       [1],\n",
              "       [0],\n",
              "       [0],\n",
              "       [1],\n",
              "       [0],\n",
              "       [1],\n",
              "       [0],\n",
              "       [0]])"
            ]
          },
          "metadata": {
            "tags": []
          },
          "execution_count": 12
        }
      ]
    },
    {
      "cell_type": "code",
      "metadata": {
        "colab": {
          "base_uri": "https://localhost:8080/"
        },
        "id": "CiMog1-k8jvy",
        "outputId": "40e5d823-903c-4fa5-e7bc-e9e67a1e7d01"
      },
      "source": [
        "print(\"Coefficient = \",linreg.coef_)"
      ],
      "execution_count": 13,
      "outputs": [
        {
          "output_type": "stream",
          "text": [
            "Coefficient =  [[-3.36484196e-05 -2.23181722e-01 -8.36330854e-03 -4.31088610e-02\n",
            "   5.46901664e-02]]\n"
          ],
          "name": "stdout"
        }
      ]
    },
    {
      "cell_type": "markdown",
      "metadata": {
        "id": "xZp7aOxPfaJI"
      },
      "source": [
        "Di atas merupakan hasil coefficient"
      ]
    },
    {
      "cell_type": "code",
      "metadata": {
        "colab": {
          "base_uri": "https://localhost:8080/"
        },
        "id": "3Hg4V1cEF214",
        "outputId": "d4fc2896-7ba3-4db5-b2fb-43d598c53366"
      },
      "source": [
        "MSE = mean_squared_error(y_test, predict)\n",
        "score = r2_score(y_test, predict)\n",
        "RMSE = math.sqrt(MSE)\n",
        "print(\"RMSE : \", RMSE)\n",
        "print (\"MSE : \", MSE)\n",
        "print (\"R2 : \", score)"
      ],
      "execution_count": 14,
      "outputs": [
        {
          "output_type": "stream",
          "text": [
            "RMSE :  0.5178382224025236\n",
            "MSE :  0.2681564245810056\n",
            "R2 :  -0.13201581027667975\n"
          ],
          "name": "stdout"
        }
      ]
    },
    {
      "cell_type": "markdown",
      "metadata": {
        "id": "pGqw5LnPfouF"
      },
      "source": [
        "Kemudian saya juga mencari RMSE, MSE, dan R2"
      ]
    },
    {
      "cell_type": "code",
      "metadata": {
        "colab": {
          "base_uri": "https://localhost:8080/",
          "height": 265
        },
        "id": "DRfAW-AbGVVg",
        "outputId": "322d7d83-2fac-451e-90e3-5245a14d12ae"
      },
      "source": [
        "plt.figure()\n",
        "plt.scatter(x = list(range(0, len(y_test))), y = y_test, color = 'green')\n",
        "plt.scatter(x = list(range(0, len(predict))), y = predict, color = 'blue')\n",
        "plt.show()"
      ],
      "execution_count": 15,
      "outputs": [
        {
          "output_type": "display_data",
          "data": {
            "image/png": "[encoded data removed]",
            "text/plain": [
              "<Figure size 432x288 with 1 Axes>"
            ]
          },
          "metadata": {
            "tags": [],
            "needs_background": "light"
          }
        }
      ]
    },
    {
      "cell_type": "markdown",
      "metadata": {
        "id": "tqMM4Xk2fvzr"
      },
      "source": [
        "Terakhir, saya menggunakan plt untuk membandingkan data prediksi dan data aktual"
      ]
    }
  ]
}